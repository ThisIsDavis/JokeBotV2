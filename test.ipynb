{
 "cells": [
  {
   "cell_type": "code",
   "execution_count": 7,
   "metadata": {},
   "outputs": [],
   "source": [
    "with open('gg.txt', 'r', encoding='utf-8') as f:\n",
    "    lines = f.readlines()\n",
    "\n",
    "output = []\n",
    "for i in range(0, len(lines), 3):\n",
    "    joke = lines[i].strip()\n",
    "    answer = lines[i+1].strip()\n",
    "    output.append(f'{joke} {answer}\\n')\n",
    "\n",
    "with open('output.txt', 'w', encoding='utf-8') as f:\n",
    "    f.write('\\n'.join(output))"
   ]
  },
  {
   "cell_type": "code",
   "execution_count": 2,
   "metadata": {},
   "outputs": [],
   "source": [
    "import os\n",
    "import json\n",
    "\n",
    "def convert_jokes(directory, output_file):\n",
    "    with open(output_file, 'w', encoding='utf-8') as outfile:\n",
    "        for filename in os.listdir(directory):\n",
    "            with open(os.path.join(directory, filename), 'r', encoding='utf-8') as file:\n",
    "                lines = file.readlines()\n",
    "                prompt = lines[0].strip()\n",
    "                for line in lines[2:]:\n",
    "                    if line.strip():\n",
    "                        completion = line.strip()\n",
    "                        joke = {\"messages\": [{\"role\": \"system\", \"content\": \"JokeBot is a chatbot that tells funny jokes from given keywords\"}, {\"role\": \"user\", \"content\": prompt}, {\"role\": \"assistant\", \"content\": completion}]}\n",
    "                        outfile.write(json.dumps(joke) + '\\n')\n",
    "\n",
    "\n",
    "convert_jokes('folder', 'turbo_output.jsonl')"
   ]
  },
  {
   "cell_type": "code",
   "execution_count": 1,
   "metadata": {},
   "outputs": [],
   "source": [
    "import json\n",
    "\n",
    "def convert_jokes(input_file, output_file):\n",
    "    with open(input_file, 'r', encoding='utf-8') as file, open(output_file, 'w', encoding='utf-8') as outfile:\n",
    "        lines = file.readlines()\n",
    "        prompt = lines[0].strip()\n",
    "        for line in lines[2:]:\n",
    "            if line.strip():\n",
    "                completion = line.strip()\n",
    "                joke = {\"messages\": [{\"role\": \"system\", \"content\": \"JokeBot is a chatbot that tells funny jokes from given keywords\"}, {\"role\": \"user\", \"content\": prompt}, {\"role\": \"assistant\", \"content\": completion}]}\n",
    "                outfile.write(json.dumps(joke) + '\\n')\n",
    "\n",
    "convert_jokes('malaysian_jokes.txt', 'malaysian.jsonl')"
   ]
  },
  {
   "cell_type": "code",
   "execution_count": 2,
   "metadata": {},
   "outputs": [
    {
     "data": {
      "text/plain": [
       "<File file id=file-DnihGF6AjleY8MWQpeRyU8RH at 0x220468131f0> JSON: {\n",
       "  \"object\": \"file\",\n",
       "  \"id\": \"file-DnihGF6AjleY8MWQpeRyU8RH\",\n",
       "  \"purpose\": \"fine-tune\",\n",
       "  \"filename\": \"file\",\n",
       "  \"bytes\": 43560,\n",
       "  \"created_at\": 1694582533,\n",
       "  \"status\": \"uploaded\",\n",
       "  \"status_details\": null\n",
       "}"
      ]
     },
     "execution_count": 2,
     "metadata": {},
     "output_type": "execute_result"
    }
   ],
   "source": [
    "import openai\n",
    "\n",
    "openai.api_key = \"\"\n",
    "\n",
    "openai.File.create(\n",
    "  file=open(\"malaysian.jsonl\", \"rb\"),\n",
    "  purpose='fine-tune'\n",
    ")"
   ]
  },
  {
   "cell_type": "code",
   "execution_count": 1,
   "metadata": {},
   "outputs": [],
   "source": [
    "response = openai.FineTuningJob.create(training_file=\"file-W8ASNAGSImUH6WL99QBE6gfl\", model=\"gpt-3.5-turbo\")"
   ]
  },
  {
   "cell_type": "code",
   "execution_count": 3,
   "metadata": {},
   "outputs": [],
   "source": [
    "response = openai.FineTuningJob.create(training_file=\"file-DnihGF6AjleY8MWQpeRyU8RH\", model=\"gpt-3.5-turbo\")"
   ]
  },
  {
   "cell_type": "code",
   "execution_count": 4,
   "metadata": {},
   "outputs": [
    {
     "data": {
      "text/plain": [
       "<OpenAIObject list at 0x220464d58f0> JSON: {\n",
       "  \"object\": \"list\",\n",
       "  \"data\": [\n",
       "    {\n",
       "      \"object\": \"fine_tuning.job\",\n",
       "      \"id\": \"ftjob-cjzuNSwLHP6a9b6hKPJOCPYF\",\n",
       "      \"model\": \"gpt-3.5-turbo-0613\",\n",
       "      \"created_at\": 1694582649,\n",
       "      \"finished_at\": null,\n",
       "      \"fine_tuned_model\": null,\n",
       "      \"organization_id\": \"org-51lwmkFDpxzyfaUNiyczPCxH\",\n",
       "      \"result_files\": [],\n",
       "      \"status\": \"running\",\n",
       "      \"validation_file\": null,\n",
       "      \"training_file\": \"file-DnihGF6AjleY8MWQpeRyU8RH\",\n",
       "      \"hyperparameters\": {\n",
       "        \"n_epochs\": 3\n",
       "      },\n",
       "      \"trained_tokens\": null,\n",
       "      \"error\": null\n",
       "    },\n",
       "    {\n",
       "      \"object\": \"fine_tuning.job\",\n",
       "      \"id\": \"ftjob-qTFsgHgljcQwNR8AyhSXjOQN\",\n",
       "      \"model\": \"gpt-3.5-turbo-0613\",\n",
       "      \"created_at\": 1692969757,\n",
       "      \"finished_at\": 1692970435,\n",
       "      \"fine_tuned_model\": \"ft:gpt-3.5-turbo-0613:monash-university-malaysia::7rREegcc\",\n",
       "      \"organization_id\": \"org-51lwmkFDpxzyfaUNiyczPCxH\",\n",
       "      \"result_files\": [\n",
       "        \"file-yDG4SzCZXLVbW06gtDU9cLJs\"\n",
       "      ],\n",
       "      \"status\": \"succeeded\",\n",
       "      \"validation_file\": null,\n",
       "      \"training_file\": \"file-W8ASNAGSImUH6WL99QBE6gfl\",\n",
       "      \"hyperparameters\": {\n",
       "        \"n_epochs\": 3\n",
       "      },\n",
       "      \"trained_tokens\": 15315,\n",
       "      \"error\": null\n",
       "    }\n",
       "  ],\n",
       "  \"has_more\": false\n",
       "}"
      ]
     },
     "execution_count": 4,
     "metadata": {},
     "output_type": "execute_result"
    }
   ],
   "source": [
    "openai.FineTuningJob.list(limit=10)"
   ]
  },
  {
   "cell_type": "code",
   "execution_count": 9,
   "metadata": {},
   "outputs": [
    {
     "data": {
      "text/plain": [
       "<FineTuningJob fine_tuning.job id=ftjob-qTFsgHgljcQwNR8AyhSXjOQN at 0x209a4096840> JSON: {\n",
       "  \"object\": \"fine_tuning.job\",\n",
       "  \"id\": \"ftjob-qTFsgHgljcQwNR8AyhSXjOQN\",\n",
       "  \"model\": \"gpt-3.5-turbo-0613\",\n",
       "  \"created_at\": 1692969757,\n",
       "  \"finished_at\": 1692970435,\n",
       "  \"fine_tuned_model\": \"ft:gpt-3.5-turbo-0613:monash-university-malaysia::7rREegcc\",\n",
       "  \"organization_id\": \"org-51lwmkFDpxzyfaUNiyczPCxH\",\n",
       "  \"result_files\": [\n",
       "    \"file-yDG4SzCZXLVbW06gtDU9cLJs\"\n",
       "  ],\n",
       "  \"status\": \"succeeded\",\n",
       "  \"validation_file\": null,\n",
       "  \"training_file\": \"file-W8ASNAGSImUH6WL99QBE6gfl\",\n",
       "  \"hyperparameters\": {\n",
       "    \"n_epochs\": 3\n",
       "  },\n",
       "  \"trained_tokens\": 15315\n",
       "}"
      ]
     },
     "execution_count": 9,
     "metadata": {},
     "output_type": "execute_result"
    }
   ],
   "source": [
    "openai.FineTuningJob.retrieve(\"ftjob-qTFsgHgljcQwNR8AyhSXjOQN\")"
   ]
  },
  {
   "cell_type": "code",
   "execution_count": 11,
   "metadata": {},
   "outputs": [
    {
     "data": {
      "text/plain": [
       "<FineTuningJob fine_tuning.job id=ftjob-cjzuNSwLHP6a9b6hKPJOCPYF at 0x220464577e0> JSON: {\n",
       "  \"object\": \"fine_tuning.job\",\n",
       "  \"id\": \"ftjob-cjzuNSwLHP6a9b6hKPJOCPYF\",\n",
       "  \"model\": \"gpt-3.5-turbo-0613\",\n",
       "  \"created_at\": 1694582649,\n",
       "  \"finished_at\": 1694583971,\n",
       "  \"fine_tuned_model\": \"ft:gpt-3.5-turbo-0613:monash-university-malaysia::7yCzUcJq\",\n",
       "  \"organization_id\": \"org-51lwmkFDpxzyfaUNiyczPCxH\",\n",
       "  \"result_files\": [\n",
       "    \"file-vwhWqdAF27TjbBqQYJ6vwHj2\"\n",
       "  ],\n",
       "  \"status\": \"succeeded\",\n",
       "  \"validation_file\": null,\n",
       "  \"training_file\": \"file-DnihGF6AjleY8MWQpeRyU8RH\",\n",
       "  \"hyperparameters\": {\n",
       "    \"n_epochs\": 3\n",
       "  },\n",
       "  \"trained_tokens\": 24546,\n",
       "  \"error\": null\n",
       "}"
      ]
     },
     "execution_count": 11,
     "metadata": {},
     "output_type": "execute_result"
    }
   ],
   "source": [
    "openai.FineTuningJob.retrieve(\"ftjob-cjzuNSwLHP6a9b6hKPJOCPYF\")"
   ]
  },
  {
   "cell_type": "code",
   "execution_count": 8,
   "metadata": {},
   "outputs": [
    {
     "name": "stdout",
     "output_type": "stream",
     "text": [
      "{\n",
      "  \"role\": \"assistant\",\n",
      "  \"content\": \"Q: What is a dolphin's favorite TV show?  A: Whale of fortune.\"\n",
      "}\n"
     ]
    }
   ],
   "source": [
    "completion = openai.ChatCompletion.create(\n",
    "  model=\"ft:gpt-3.5-turbo-0613:monash-university-malaysia::7rREegcc\",\n",
    "  messages=[\n",
    "    {\"role\": \"system\", \"content\": \"JokeBot is a chatbot that tells funny jokes from given keywords\"},\n",
    "    {\"role\": \"user\", \"content\": \"Give me an animal joke\"}\n",
    "  ]\n",
    ")\n",
    "\n",
    "print(completion.choices[0].message)"
   ]
  },
  {
   "cell_type": "code",
   "execution_count": null,
   "metadata": {},
   "outputs": [],
   "source": []
  }
 ],
 "metadata": {
  "kernelspec": {
   "display_name": "Python 3",
   "language": "python",
   "name": "python3"
  },
  "language_info": {
   "codemirror_mode": {
    "name": "ipython",
    "version": 3
   },
   "file_extension": ".py",
   "mimetype": "text/x-python",
   "name": "python",
   "nbconvert_exporter": "python",
   "pygments_lexer": "ipython3",
   "version": "3.10.11"
  },
  "orig_nbformat": 4
 },
 "nbformat": 4,
 "nbformat_minor": 2
}
